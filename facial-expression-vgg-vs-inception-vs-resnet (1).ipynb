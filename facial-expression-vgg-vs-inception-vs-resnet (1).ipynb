{
 "cells": [
  {
   "cell_type": "code",
   "execution_count": 34,
   "metadata": {
    "_cell_guid": "b1076dfc-b9ad-4769-8c92-a6c4dae69d19",
    "_uuid": "8f2839f25d086af736a60e9eeb907d3b93b6e0e5",
    "execution": {
     "iopub.execute_input": "2023-07-26T04:20:52.690464Z",
     "iopub.status.busy": "2023-07-26T04:20:52.689980Z",
     "iopub.status.idle": "2023-07-26T04:20:52.698984Z",
     "shell.execute_reply": "2023-07-26T04:20:52.697939Z",
     "shell.execute_reply.started": "2023-07-26T04:20:52.690418Z"
    }
   },
   "outputs": [],
   "source": [
    "import pandas as pd\n",
    "import numpy as np\n",
    "import matplotlib.pyplot as plt\n",
    "from sklearn.utils import shuffle\n",
    "from sklearn.model_selection import train_test_split\n",
    "from tensorflow.keras.utils import to_categorical"
   ]
  },
  {
   "cell_type": "code",
   "execution_count": 35,
   "metadata": {
    "execution": {
     "iopub.execute_input": "2023-07-26T04:20:52.701690Z",
     "iopub.status.busy": "2023-07-26T04:20:52.701134Z",
     "iopub.status.idle": "2023-07-26T04:20:52.717099Z",
     "shell.execute_reply": "2023-07-26T04:20:52.715976Z",
     "shell.execute_reply.started": "2023-07-26T04:20:52.701653Z"
    }
   },
   "outputs": [],
   "source": [
    "import tensorflow as tf"
   ]
  },
  {
   "cell_type": "code",
   "execution_count": 36,
   "metadata": {
    "execution": {
     "iopub.execute_input": "2023-07-26T04:20:52.719514Z",
     "iopub.status.busy": "2023-07-26T04:20:52.718754Z",
     "iopub.status.idle": "2023-07-26T04:20:52.731660Z",
     "shell.execute_reply": "2023-07-26T04:20:52.730595Z",
     "shell.execute_reply.started": "2023-07-26T04:20:52.719461Z"
    }
   },
   "outputs": [],
   "source": [
    "from tensorflow.keras.models import Model\n",
    "from tensorflow.keras.layers import Input, Conv2D, MaxPooling2D, Flatten, Dense, Activation, add\n",
    "from tensorflow.keras.utils import plot_model"
   ]
  },
  {
   "cell_type": "code",
   "execution_count": 37,
   "metadata": {
    "_cell_guid": "79c7e3d0-c299-4dcb-8224-4455121ee9b0",
    "_uuid": "d629ff2d2480ee46fbb7e2d37f6b5fab8052498a",
    "execution": {
     "iopub.execute_input": "2023-07-26T04:20:52.733791Z",
     "iopub.status.busy": "2023-07-26T04:20:52.733315Z",
     "iopub.status.idle": "2023-07-26T04:20:52.744890Z",
     "shell.execute_reply": "2023-07-26T04:20:52.743563Z",
     "shell.execute_reply.started": "2023-07-26T04:20:52.733744Z"
    }
   },
   "outputs": [],
   "source": [
    "label_map = ['Anger', 'Disgust', 'Fear', 'Happy', 'Sad', 'Surprise', 'Neutral']\n",
    "names=['emotion','pixels','usage']"
   ]
  },
  {
   "cell_type": "code",
   "execution_count": 38,
   "metadata": {
    "execution": {
     "iopub.execute_input": "2023-07-26T04:20:52.749387Z",
     "iopub.status.busy": "2023-07-26T04:20:52.748582Z",
     "iopub.status.idle": "2023-07-26T04:20:56.759784Z",
     "shell.execute_reply": "2023-07-26T04:20:56.758975Z",
     "shell.execute_reply.started": "2023-07-26T04:20:52.749328Z"
    }
   },
   "outputs": [
    {
     "data": {
      "text/html": [
       "<div>\n",
       "<style scoped>\n",
       "    .dataframe tbody tr th:only-of-type {\n",
       "        vertical-align: middle;\n",
       "    }\n",
       "\n",
       "    .dataframe tbody tr th {\n",
       "        vertical-align: top;\n",
       "    }\n",
       "\n",
       "    .dataframe thead th {\n",
       "        text-align: right;\n",
       "    }\n",
       "</style>\n",
       "<table border=\"1\" class=\"dataframe\">\n",
       "  <thead>\n",
       "    <tr style=\"text-align: right;\">\n",
       "      <th></th>\n",
       "      <th>emotion</th>\n",
       "      <th>pixels</th>\n",
       "      <th>usage</th>\n",
       "    </tr>\n",
       "  </thead>\n",
       "  <tbody>\n",
       "    <tr>\n",
       "      <th>1</th>\n",
       "      <td>0</td>\n",
       "      <td>70 80 82 72 58 58 60 63 54 58 60 48 89 115 121...</td>\n",
       "      <td>Training</td>\n",
       "    </tr>\n",
       "    <tr>\n",
       "      <th>2</th>\n",
       "      <td>0</td>\n",
       "      <td>151 150 147 155 148 133 111 140 170 174 182 15...</td>\n",
       "      <td>Training</td>\n",
       "    </tr>\n",
       "    <tr>\n",
       "      <th>3</th>\n",
       "      <td>2</td>\n",
       "      <td>231 212 156 164 174 138 161 173 182 200 106 38...</td>\n",
       "      <td>Training</td>\n",
       "    </tr>\n",
       "    <tr>\n",
       "      <th>4</th>\n",
       "      <td>4</td>\n",
       "      <td>24 32 36 30 32 23 19 20 30 41 21 22 32 34 21 1...</td>\n",
       "      <td>Training</td>\n",
       "    </tr>\n",
       "    <tr>\n",
       "      <th>5</th>\n",
       "      <td>6</td>\n",
       "      <td>4 0 0 0 0 0 0 0 0 0 0 0 3 15 23 28 48 50 58 84...</td>\n",
       "      <td>Training</td>\n",
       "    </tr>\n",
       "  </tbody>\n",
       "</table>\n",
       "</div>"
      ],
      "text/plain": [
       "  emotion                                             pixels     usage\n",
       "1       0  70 80 82 72 58 58 60 63 54 58 60 48 89 115 121...  Training\n",
       "2       0  151 150 147 155 148 133 111 140 170 174 182 15...  Training\n",
       "3       2  231 212 156 164 174 138 161 173 182 200 106 38...  Training\n",
       "4       4  24 32 36 30 32 23 19 20 30 41 21 22 32 34 21 1...  Training\n",
       "5       6  4 0 0 0 0 0 0 0 0 0 0 0 3 15 23 28 48 50 58 84...  Training"
      ]
     },
     "execution_count": 38,
     "metadata": {},
     "output_type": "execute_result"
    }
   ],
   "source": [
    "df=pd.read_csv('fer2013.csv',names=names, na_filter=False)\n",
    "df = df.iloc[1:]\n",
    "df.head()"
   ]
  },
  {
   "cell_type": "code",
   "execution_count": 39,
   "metadata": {
    "execution": {
     "iopub.execute_input": "2023-07-26T04:20:56.762046Z",
     "iopub.status.busy": "2023-07-26T04:20:56.761541Z",
     "iopub.status.idle": "2023-07-26T04:20:56.770486Z",
     "shell.execute_reply": "2023-07-26T04:20:56.769288Z",
     "shell.execute_reply.started": "2023-07-26T04:20:56.761992Z"
    }
   },
   "outputs": [],
   "source": [
    "def get_train_data(df):\n",
    "    x = []\n",
    "\n",
    "    train = df['pixels'].to_numpy()\n",
    "\n",
    "    for i in range(len(train)):\n",
    "        x.append(train[i].split(' '))\n",
    "\n",
    "    x = np.array(x)\n",
    "    x = x.astype('float32').reshape(len(train), 48, 48, 1)\n",
    "\n",
    "    return x"
   ]
  },
  {
   "cell_type": "code",
   "execution_count": 40,
   "metadata": {
    "execution": {
     "iopub.execute_input": "2023-07-26T04:20:56.773414Z",
     "iopub.status.busy": "2023-07-26T04:20:56.772729Z",
     "iopub.status.idle": "2023-07-26T04:22:34.587168Z",
     "shell.execute_reply": "2023-07-26T04:22:34.585773Z",
     "shell.execute_reply.started": "2023-07-26T04:20:56.773361Z"
    }
   },
   "outputs": [],
   "source": [
    "train = get_train_data(df)\n",
    "labels = df['emotion'].to_numpy().astype('int')"
   ]
  },
  {
   "cell_type": "code",
   "execution_count": 41,
   "metadata": {
    "execution": {
     "iopub.execute_input": "2023-07-26T04:22:34.589302Z",
     "iopub.status.busy": "2023-07-26T04:22:34.588896Z",
     "iopub.status.idle": "2023-07-26T04:22:34.764634Z",
     "shell.execute_reply": "2023-07-26T04:22:34.763307Z",
     "shell.execute_reply.started": "2023-07-26T04:22:34.589263Z"
    }
   },
   "outputs": [
    {
     "data": {
      "text/plain": [
       "<matplotlib.image.AxesImage at 0x79c7a96d0d90>"
      ]
     },
     "execution_count": 41,
     "metadata": {},
     "output_type": "execute_result"
    },
    {
     "data": {
      "image/png": "[encoded data removed]",
      "text/plain": [
       "<Figure size 432x288 with 1 Axes>"
      ]
     },
     "metadata": {
      "needs_background": "light"
     },
     "output_type": "display_data"
    }
   ],
   "source": [
    "plt.imshow(train[0].reshape(48, 48))"
   ]
  },
  {
   "cell_type": "code",
   "execution_count": 42,
   "metadata": {
    "execution": {
     "iopub.execute_input": "2023-07-26T04:22:34.766896Z",
     "iopub.status.busy": "2023-07-26T04:22:34.766534Z",
     "iopub.status.idle": "2023-07-26T04:22:34.774725Z",
     "shell.execute_reply": "2023-07-26T04:22:34.773432Z",
     "shell.execute_reply.started": "2023-07-26T04:22:34.766860Z"
    }
   },
   "outputs": [
    {
     "data": {
      "text/plain": [
       "0"
      ]
     },
     "execution_count": 42,
     "metadata": {},
     "output_type": "execute_result"
    }
   ],
   "source": [
    "labels[0]"
   ]
  },
  {
   "cell_type": "code",
   "execution_count": 43,
   "metadata": {
    "execution": {
     "iopub.execute_input": "2023-07-26T04:22:34.777710Z",
     "iopub.status.busy": "2023-07-26T04:22:34.776957Z",
     "iopub.status.idle": "2023-07-26T04:22:34.938395Z",
     "shell.execute_reply": "2023-07-26T04:22:34.937296Z",
     "shell.execute_reply.started": "2023-07-26T04:22:34.777653Z"
    }
   },
   "outputs": [],
   "source": [
    "X_train, X_test, y_train, y_test = train_test_split(train, labels, test_size=0.33, random_state=42)"
   ]
  },
  {
   "cell_type": "code",
   "execution_count": 44,
   "metadata": {
    "execution": {
     "iopub.execute_input": "2023-07-26T04:22:34.940305Z",
     "iopub.status.busy": "2023-07-26T04:22:34.939780Z",
     "iopub.status.idle": "2023-07-26T04:22:34.946268Z",
     "shell.execute_reply": "2023-07-26T04:22:34.944876Z",
     "shell.execute_reply.started": "2023-07-26T04:22:34.940260Z"
    }
   },
   "outputs": [],
   "source": [
    "y_train = to_categorical(y_train)\n",
    "y_test = to_categorical(y_test)"
   ]
  },
  {
   "cell_type": "code",
   "execution_count": 45,
   "metadata": {
    "execution": {
     "iopub.execute_input": "2023-07-26T04:22:34.948868Z",
     "iopub.status.busy": "2023-07-26T04:22:34.948314Z",
     "iopub.status.idle": "2023-07-26T04:22:34.961500Z",
     "shell.execute_reply": "2023-07-26T04:22:34.960174Z",
     "shell.execute_reply.started": "2023-07-26T04:22:34.948760Z"
    }
   },
   "outputs": [
    {
     "data": {
      "text/plain": [
       "(24044, 48, 48, 1)"
      ]
     },
     "execution_count": 45,
     "metadata": {},
     "output_type": "execute_result"
    }
   ],
   "source": [
    "X_train.shape"
   ]
  },
  {
   "cell_type": "code",
   "execution_count": 46,
   "metadata": {
    "execution": {
     "iopub.execute_input": "2023-07-26T04:22:34.963300Z",
     "iopub.status.busy": "2023-07-26T04:22:34.962938Z",
     "iopub.status.idle": "2023-07-26T04:22:34.979450Z",
     "shell.execute_reply": "2023-07-26T04:22:34.977914Z",
     "shell.execute_reply.started": "2023-07-26T04:22:34.963261Z"
    }
   },
   "outputs": [],
   "source": [
    "import time\n",
    "\n",
    "class TimeHistory(tf.keras.callbacks.Callback):\n",
    "    def on_train_begin(self, logs={}):\n",
    "        self.times = []\n",
    "\n",
    "    def on_epoch_begin(self, epoch, logs={}):\n",
    "        self.epoch_time_start = time.time()\n",
    "\n",
    "    def on_epoch_end(self, epoch, logs={}):\n",
    "        self.times.append(time.time() - self.epoch_time_start)"
   ]
  },
  {
   "cell_type": "code",
   "execution_count": 47,
   "metadata": {
    "execution": {
     "iopub.execute_input": "2023-07-26T04:22:34.982057Z",
     "iopub.status.busy": "2023-07-26T04:22:34.981549Z",
     "iopub.status.idle": "2023-07-26T04:22:34.997550Z",
     "shell.execute_reply": "2023-07-26T04:22:34.996310Z",
     "shell.execute_reply.started": "2023-07-26T04:22:34.982019Z"
    }
   },
   "outputs": [],
   "source": [
    "time_callback_vgg = TimeHistory()\n",
    "time_callback_resid = TimeHistory()"
   ]
  },
  {
   "cell_type": "markdown",
   "metadata": {},
   "source": [
    "# VGG"
   ]
  },
  {
   "cell_type": "code",
   "execution_count": 48,
   "metadata": {
    "execution": {
     "iopub.execute_input": "2023-07-26T04:22:34.999700Z",
     "iopub.status.busy": "2023-07-26T04:22:34.999239Z",
     "iopub.status.idle": "2023-07-26T04:22:35.011299Z",
     "shell.execute_reply": "2023-07-26T04:22:35.010140Z",
     "shell.execute_reply.started": "2023-07-26T04:22:34.999644Z"
    }
   },
   "outputs": [],
   "source": [
    "def vgg_block(layer_in, n_filters, n_conv):\n",
    "    # add convolutional layers\n",
    "    for _ in range(n_conv):\n",
    "        layer_in = Conv2D(n_filters, (3,3), padding='same', activation='relu')(layer_in)\n",
    "    # add max pooling layer\n",
    "    layer_in = MaxPooling2D((2,2), strides=(2,2))(layer_in)\n",
    "    return layer_in"
   ]
  },
  {
   "cell_type": "code",
   "execution_count": 49,
   "metadata": {
    "execution": {
     "iopub.execute_input": "2023-07-26T04:22:35.013403Z",
     "iopub.status.busy": "2023-07-26T04:22:35.012968Z",
     "iopub.status.idle": "2023-07-26T04:22:35.178725Z",
     "shell.execute_reply": "2023-07-26T04:22:35.177424Z",
     "shell.execute_reply.started": "2023-07-26T04:22:35.013367Z"
    }
   },
   "outputs": [],
   "source": [
    "# define model input\n",
    "visible = Input(shape=(48, 48, 1))\n",
    "# add vgg module\n",
    "layer = vgg_block(visible, 64, 2)\n",
    "# add vgg module\n",
    "layer = vgg_block(layer, 128, 2)\n",
    "# add vgg module\n",
    "layer = vgg_block(layer, 256, 4)\n",
    "\n",
    "layer = Flatten()(layer)\n",
    "layer = Dense(7, activation='softmax')(layer)\n",
    "\n",
    "model_vgg = Model(inputs=visible, outputs=layer)\n",
    "model_vgg.compile(loss='categorical_crossentropy', optimizer='adam', metrics=['accuracy'])"
   ]
  },
  {
   "cell_type": "code",
   "execution_count": 50,
   "metadata": {
    "execution": {
     "iopub.execute_input": "2023-07-26T04:22:35.184865Z",
     "iopub.status.busy": "2023-07-26T04:22:35.184465Z",
     "iopub.status.idle": "2023-07-26T04:22:35.196341Z",
     "shell.execute_reply": "2023-07-26T04:22:35.194206Z",
     "shell.execute_reply.started": "2023-07-26T04:22:35.184815Z"
    }
   },
   "outputs": [
    {
     "name": "stdout",
     "output_type": "stream",
     "text": [
      "Model: \"model_4\"\n",
      "_________________________________________________________________\n",
      "Layer (type)                 Output Shape              Param #   \n",
      "=================================================================\n",
      "input_5 (InputLayer)         [(None, 48, 48, 1)]       0         \n",
      "_________________________________________________________________\n",
      "conv2d_22 (Conv2D)           (None, 48, 48, 64)        640       \n",
      "_________________________________________________________________\n",
      "conv2d_23 (Conv2D)           (None, 48, 48, 64)        36928     \n",
      "_________________________________________________________________\n",
      "max_pooling2d_6 (MaxPooling2 (None, 24, 24, 64)        0         \n",
      "_________________________________________________________________\n",
      "conv2d_24 (Conv2D)           (None, 24, 24, 128)       73856     \n",
      "_________________________________________________________________\n",
      "conv2d_25 (Conv2D)           (None, 24, 24, 128)       147584    \n",
      "_________________________________________________________________\n",
      "max_pooling2d_7 (MaxPooling2 (None, 12, 12, 128)       0         \n",
      "_________________________________________________________________\n",
      "conv2d_26 (Conv2D)           (None, 12, 12, 256)       295168    \n",
      "_________________________________________________________________\n",
      "conv2d_27 (Conv2D)           (None, 12, 12, 256)       590080    \n",
      "_________________________________________________________________\n",
      "conv2d_28 (Conv2D)           (None, 12, 12, 256)       590080    \n",
      "_________________________________________________________________\n",
      "conv2d_29 (Conv2D)           (None, 12, 12, 256)       590080    \n",
      "_________________________________________________________________\n",
      "max_pooling2d_8 (MaxPooling2 (None, 6, 6, 256)         0         \n",
      "_________________________________________________________________\n",
      "flatten_4 (Flatten)          (None, 9216)              0         \n",
      "_________________________________________________________________\n",
      "dense_4 (Dense)              (None, 7)                 64519     \n",
      "=================================================================\n",
      "Total params: 2,388,935\n",
      "Trainable params: 2,388,935\n",
      "Non-trainable params: 0\n",
      "_________________________________________________________________\n"
     ]
    }
   ],
   "source": [
    "model_vgg.summary()"
   ]
  },
  {
   "cell_type": "code",
   "execution_count": 53,
   "metadata": {
    "execution": {
     "iopub.execute_input": "2023-07-26T04:35:06.001348Z",
     "iopub.status.busy": "2023-07-26T04:35:06.000652Z",
     "iopub.status.idle": "2023-07-26T05:22:54.120059Z",
     "shell.execute_reply": "2023-07-26T05:22:54.119014Z",
     "shell.execute_reply.started": "2023-07-26T04:35:06.001307Z"
    }
   },
   "outputs": [
    {
     "name": "stdout",
     "output_type": "stream",
     "text": [
      "Epoch 1/3\n",
      "752/752 [==============================] - 955s 1s/step - loss: 1.7490 - accuracy: 0.2851 - val_loss: 1.6568 - val_accuracy: 0.3432\n",
      "Epoch 2/3\n",
      "752/752 [==============================] - 953s 1s/step - loss: 1.5486 - accuracy: 0.3999 - val_loss: 1.5271 - val_accuracy: 0.4078\n",
      "Epoch 3/3\n",
      "752/752 [==============================] - 957s 1s/step - loss: 1.4031 - accuracy: 0.4626 - val_loss: 1.4038 - val_accuracy: 0.4620\n"
     ]
    }
   ],
   "source": [
    "history_vgg = model_vgg.fit(X_train, y_train, epochs=3, validation_data=(X_test, y_test), callbacks=[time_callback_vgg])"
   ]
  },
  {
   "cell_type": "markdown",
   "metadata": {},
   "source": [
    "# Residual Network"
   ]
  },
  {
   "cell_type": "code",
   "execution_count": 54,
   "metadata": {
    "execution": {
     "iopub.execute_input": "2023-07-26T05:23:02.900125Z",
     "iopub.status.busy": "2023-07-26T05:23:02.899476Z",
     "iopub.status.idle": "2023-07-26T05:23:02.909903Z",
     "shell.execute_reply": "2023-07-26T05:23:02.908860Z",
     "shell.execute_reply.started": "2023-07-26T05:23:02.900062Z"
    }
   },
   "outputs": [],
   "source": [
    "def residual_module(layer_in, n_filters):\n",
    "    merge_input = layer_in\n",
    "    # check if the number of filters needs to be increase, assumes channels last format\n",
    "    if layer_in.shape[-1] != n_filters:\n",
    "        merge_input = Conv2D(n_filters, (1,1), padding='same', activation='relu', kernel_initializer='he_normal')(layer_in)\n",
    "    # conv1\n",
    "    conv1 = Conv2D(n_filters, (3,3), padding='same', activation='relu', kernel_initializer='he_normal')(layer_in)\n",
    "    # conv2\n",
    "    conv2 = Conv2D(n_filters, (3,3), padding='same', activation='linear', kernel_initializer='he_normal')(conv1)\n",
    "    # add filters, assumes filters/channels last\n",
    "    layer_out = add([conv2, merge_input])\n",
    "    # activation function\n",
    "    layer_out = Activation('relu')(layer_out)\n",
    "    return layer_out"
   ]
  },
  {
   "cell_type": "code",
   "execution_count": 55,
   "metadata": {
    "execution": {
     "iopub.execute_input": "2023-07-26T05:23:07.592619Z",
     "iopub.status.busy": "2023-07-26T05:23:07.591909Z",
     "iopub.status.idle": "2023-07-26T05:23:07.681020Z",
     "shell.execute_reply": "2023-07-26T05:23:07.679751Z",
     "shell.execute_reply.started": "2023-07-26T05:23:07.592558Z"
    }
   },
   "outputs": [],
   "source": [
    "# define model input\n",
    "visible = Input(shape=(48, 48, 1))\n",
    "# add vgg module\n",
    "layer = residual_module(visible, 64)\n",
    "# create model\n",
    "\n",
    "layer = Flatten()(layer)\n",
    "layer = Dense(7, activation='softmax')(layer)\n",
    "\n",
    "model_residual = Model(inputs=visible, outputs=layer)\n",
    "model_residual.compile(loss='categorical_crossentropy', optimizer='adam', metrics=['accuracy'])"
   ]
  },
  {
   "cell_type": "code",
   "execution_count": 56,
   "metadata": {
    "execution": {
     "iopub.execute_input": "2023-07-26T05:23:13.420444Z",
     "iopub.status.busy": "2023-07-26T05:23:13.419723Z",
     "iopub.status.idle": "2023-07-26T05:23:13.431481Z",
     "shell.execute_reply": "2023-07-26T05:23:13.430176Z",
     "shell.execute_reply.started": "2023-07-26T05:23:13.420381Z"
    }
   },
   "outputs": [
    {
     "name": "stdout",
     "output_type": "stream",
     "text": [
      "Model: \"model_5\"\n",
      "__________________________________________________________________________________________________\n",
      "Layer (type)                    Output Shape         Param #     Connected to                     \n",
      "==================================================================================================\n",
      "input_6 (InputLayer)            [(None, 48, 48, 1)]  0                                            \n",
      "__________________________________________________________________________________________________\n",
      "conv2d_31 (Conv2D)              (None, 48, 48, 64)   640         input_6[0][0]                    \n",
      "__________________________________________________________________________________________________\n",
      "conv2d_32 (Conv2D)              (None, 48, 48, 64)   36928       conv2d_31[0][0]                  \n",
      "__________________________________________________________________________________________________\n",
      "conv2d_30 (Conv2D)              (None, 48, 48, 64)   128         input_6[0][0]                    \n",
      "__________________________________________________________________________________________________\n",
      "add_2 (Add)                     (None, 48, 48, 64)   0           conv2d_32[0][0]                  \n",
      "                                                                 conv2d_30[0][0]                  \n",
      "__________________________________________________________________________________________________\n",
      "activation_2 (Activation)       (None, 48, 48, 64)   0           add_2[0][0]                      \n",
      "__________________________________________________________________________________________________\n",
      "flatten_5 (Flatten)             (None, 147456)       0           activation_2[0][0]               \n",
      "__________________________________________________________________________________________________\n",
      "dense_5 (Dense)                 (None, 7)            1032199     flatten_5[0][0]                  \n",
      "==================================================================================================\n",
      "Total params: 1,069,895\n",
      "Trainable params: 1,069,895\n",
      "Non-trainable params: 0\n",
      "__________________________________________________________________________________________________\n"
     ]
    }
   ],
   "source": [
    "model_residual.summary()"
   ]
  },
  {
   "cell_type": "code",
   "execution_count": 57,
   "metadata": {
    "execution": {
     "iopub.execute_input": "2023-07-26T05:23:28.477744Z",
     "iopub.status.busy": "2023-07-26T05:23:28.477342Z",
     "iopub.status.idle": "2023-07-26T05:35:08.763371Z",
     "shell.execute_reply": "2023-07-26T05:35:08.762143Z",
     "shell.execute_reply.started": "2023-07-26T05:23:28.477709Z"
    }
   },
   "outputs": [
    {
     "name": "stdout",
     "output_type": "stream",
     "text": [
      "Epoch 1/3\n",
      "752/752 [==============================] - 222s 295ms/step - loss: 58.3193 - accuracy: 0.2222 - val_loss: 1.8323 - val_accuracy: 0.2456\n",
      "Epoch 2/3\n",
      "752/752 [==============================] - 239s 317ms/step - loss: 1.7975 - accuracy: 0.2629 - val_loss: 1.8300 - val_accuracy: 0.2531\n",
      "Epoch 3/3\n",
      "752/752 [==============================] - 238s 317ms/step - loss: 1.7409 - accuracy: 0.2884 - val_loss: 1.8814 - val_accuracy: 0.2571\n"
     ]
    }
   ],
   "source": [
    "history_residual = model_residual.fit(X_train, y_train, epochs=3, validation_data=(X_test, y_test), callbacks=[time_callback_resid])"
   ]
  },
  {
   "cell_type": "markdown",
   "metadata": {},
   "source": [
    "# Graphs"
   ]
  },
  {
   "cell_type": "code",
   "execution_count": 58,
   "metadata": {
    "execution": {
     "iopub.execute_input": "2023-07-26T05:37:05.747042Z",
     "iopub.status.busy": "2023-07-26T05:37:05.746464Z",
     "iopub.status.idle": "2023-07-26T05:37:05.945960Z",
     "shell.execute_reply": "2023-07-26T05:37:05.944714Z",
     "shell.execute_reply.started": "2023-07-26T05:37:05.746987Z"
    }
   },
   "outputs": [
    {
     "data": {
      "text/plain": [
       "[<matplotlib.lines.Line2D at 0x79c794673c50>]"
      ]
     },
     "execution_count": 58,
     "metadata": {},
     "output_type": "execute_result"
    },
    {
     "data": {
      "image/png": "[encoded data removed]",
      "text/plain": [
       "<Figure size 432x288 with 1 Axes>"
      ]
     },
     "metadata": {
      "needs_background": "light"
     },
     "output_type": "display_data"
    }
   ],
   "source": [
    "plt.title(\"Accuracy\")\n",
    "plt.plot(history_residual.history['accuracy'], 'b')\n",
    "plt.plot(history_vgg.history['accuracy'], 'r')"
   ]
  },
  {
   "cell_type": "markdown",
   "metadata": {},
   "source": [
    "VGG Accuracy is more than ResNet "
   ]
  },
  {
   "cell_type": "code",
   "execution_count": 59,
   "metadata": {
    "execution": {
     "iopub.execute_input": "2023-07-26T05:37:25.135802Z",
     "iopub.status.busy": "2023-07-26T05:37:25.135334Z",
     "iopub.status.idle": "2023-07-26T05:37:25.321730Z",
     "shell.execute_reply": "2023-07-26T05:37:25.320260Z",
     "shell.execute_reply.started": "2023-07-26T05:37:25.135764Z"
    }
   },
   "outputs": [
    {
     "data": {
      "text/plain": [
       "[<matplotlib.lines.Line2D at 0x79c7942db710>]"
      ]
     },
     "execution_count": 59,
     "metadata": {},
     "output_type": "execute_result"
    },
    {
     "data": {
      "image/png": "[encoded data removed]",
      "text/plain": [
       "<Figure size 432x288 with 1 Axes>"
      ]
     },
     "metadata": {
      "needs_background": "light"
     },
     "output_type": "display_data"
    }
   ],
   "source": [
    "plt.title(\"Loss\")\n",
    "plt.plot(history_residual.history['loss'], 'b')\n",
    "plt.plot(history_vgg.history['loss'], 'r')"
   ]
  },
  {
   "cell_type": "code",
   "execution_count": 60,
   "metadata": {
    "execution": {
     "iopub.execute_input": "2023-07-26T05:37:36.424612Z",
     "iopub.status.busy": "2023-07-26T05:37:36.424112Z",
     "iopub.status.idle": "2023-07-26T05:37:36.621978Z",
     "shell.execute_reply": "2023-07-26T05:37:36.620436Z",
     "shell.execute_reply.started": "2023-07-26T05:37:36.424568Z"
    }
   },
   "outputs": [
    {
     "data": {
      "text/plain": [
       "[<matplotlib.lines.Line2D at 0x79c79424d210>]"
      ]
     },
     "execution_count": 60,
     "metadata": {},
     "output_type": "execute_result"
    },
    {
     "data": {
      "image/png": "[encoded data removed]",
      "text/plain": [
       "<Figure size 432x288 with 1 Axes>"
      ]
     },
     "metadata": {
      "needs_background": "light"
     },
     "output_type": "display_data"
    }
   ],
   "source": [
    "plt.title(\"Value Loss\")\n",
    "plt.plot(history_residual.history['val_loss'], 'b')\n",
    "plt.plot(history_vgg.history['val_loss'], 'r')"
   ]
  },
  {
   "cell_type": "code",
   "execution_count": 61,
   "metadata": {
    "execution": {
     "iopub.execute_input": "2023-07-26T05:37:48.902928Z",
     "iopub.status.busy": "2023-07-26T05:37:48.902409Z",
     "iopub.status.idle": "2023-07-26T05:37:49.088633Z",
     "shell.execute_reply": "2023-07-26T05:37:49.087341Z",
     "shell.execute_reply.started": "2023-07-26T05:37:48.902873Z"
    }
   },
   "outputs": [
    {
     "data": {
      "text/plain": [
       "[<matplotlib.lines.Line2D at 0x79c7941b9850>]"
      ]
     },
     "execution_count": 61,
     "metadata": {},
     "output_type": "execute_result"
    },
    {
     "data": {
      "image/png": "[encoded data removed]",
      "text/plain": [
       "<Figure size 432x288 with 1 Axes>"
      ]
     },
     "metadata": {
      "needs_background": "light"
     },
     "output_type": "display_data"
    }
   ],
   "source": [
    "plt.title(\"Value Accuracy\")\n",
    "plt.plot(history_residual.history['val_accuracy'], 'b')\n",
    "plt.plot(history_vgg.history['val_accuracy'], 'r')"
   ]
  },
  {
   "cell_type": "code",
   "execution_count": 62,
   "metadata": {
    "execution": {
     "iopub.execute_input": "2023-07-26T05:38:10.410302Z",
     "iopub.status.busy": "2023-07-26T05:38:10.409440Z",
     "iopub.status.idle": "2023-07-26T05:38:10.610242Z",
     "shell.execute_reply": "2023-07-26T05:38:10.609143Z",
     "shell.execute_reply.started": "2023-07-26T05:38:10.410244Z"
    }
   },
   "outputs": [
    {
     "data": {
      "text/plain": [
       "[<matplotlib.lines.Line2D at 0x79c7941a4650>]"
      ]
     },
     "execution_count": 62,
     "metadata": {},
     "output_type": "execute_result"
    },
    {
     "data": {
      "image/png": "[encoded data removed]",
      "text/plain": [
       "<Figure size 432x288 with 1 Axes>"
      ]
     },
     "metadata": {
      "needs_background": "light"
     },
     "output_type": "display_data"
    }
   ],
   "source": [
    "plt.title(\"Time to train per epoch (seconds)\")\n",
    "plt.plot(time_callback_resid.times, 'b')\n",
    "plt.plot(time_callback_vgg.times, 'r')"
   ]
  },
  {
   "cell_type": "markdown",
   "metadata": {},
   "source": [
    "ResNet epoch time is faster than VGG epoch time"
   ]
  },
  {
   "cell_type": "code",
   "execution_count": null,
   "metadata": {},
   "outputs": [],
   "source": []
  }
 ],
 "metadata": {
  "kernelspec": {
   "display_name": "Python 3 (ipykernel)",
   "language": "python",
   "name": "python3"
  },
  "language_info": {
   "codemirror_mode": {
    "name": "ipython",
    "version": 3
   },
   "file_extension": ".py",
   "mimetype": "text/x-python",
   "name": "python",
   "nbconvert_exporter": "python",
   "pygments_lexer": "ipython3",
   "version": "3.9.12"
  }
 },
 "nbformat": 4,
 "nbformat_minor": 4
}
