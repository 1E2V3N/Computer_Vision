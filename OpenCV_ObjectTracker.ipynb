{
 "cells": [
  {
   "cell_type": "code",
   "execution_count": 1,
   "id": "eebfa893",
   "metadata": {},
   "outputs": [],
   "source": [
    "import cv2\n",
    "\n",
    "tracker_types = ['BOOSTING', 'MIL','KCF', 'TLD', 'MEDIANFLOW','MOSSE', 'CSRT']\n",
    "tracker_type = tracker_types[-1]\n",
    "\n",
    "if tracker_type == 'BOOSTING':\n",
    "    tracker = cv2.legacy.TrackerBoosting_create()\n",
    "if tracker_type == 'MIL':\n",
    "    tracker = cv2.TrackerMIL_create() \n",
    "if tracker_type == 'KCF':\n",
    "    tracker = cv2.TrackerKCF_create() \n",
    "if tracker_type == 'TLD':\n",
    "    tracker = cv2.legacy.TrackerTLD_create() \n",
    "if tracker_type == 'MEDIANFLOW':\n",
    "    tracker = cv2.legacy.TrackerMedianFlow_create() \n",
    "if tracker_type == 'MOSSE':\n",
    "    tracker = cv2.legacy.TrackerMOSSE_create()\n",
    "if tracker_type == \"CSRT\":\n",
    "    tracker = cv2.TrackerCSRT_create()"
   ]
  },
  {
   "cell_type": "code",
   "execution_count": 2,
   "id": "9b1d0954",
   "metadata": {},
   "outputs": [
    {
     "name": "stdout",
     "output_type": "stream",
     "text": [
      "Select the first person's bounding box:\n",
      "Select the second person's bounding box:\n"
     ]
    },
    {
     "ename": "error",
     "evalue": "OpenCV(4.8.0) D:\\a\\opencv-python\\opencv-python\\opencv\\modules\\imgproc\\src\\resize.cpp:4062: error: (-215:Assertion failed) !ssize.empty() in function 'cv::resize'\n",
     "output_type": "error",
     "traceback": [
      "\u001b[1;31m---------------------------------------------------------------------------\u001b[0m",
      "\u001b[1;31merror\u001b[0m                                     Traceback (most recent call last)",
      "Input \u001b[1;32mIn [2]\u001b[0m, in \u001b[0;36m<cell line: 32>\u001b[1;34m()\u001b[0m\n\u001b[0;32m     31\u001b[0m \u001b[38;5;28;01mwhile\u001b[39;00m \u001b[38;5;28;01mTrue\u001b[39;00m:\n\u001b[0;32m     32\u001b[0m     ret, frame \u001b[38;5;241m=\u001b[39m video\u001b[38;5;241m.\u001b[39mread()\n\u001b[1;32m---> 33\u001b[0m     frame \u001b[38;5;241m=\u001b[39m \u001b[43mcv2\u001b[49m\u001b[38;5;241;43m.\u001b[39;49m\u001b[43mresize\u001b[49m\u001b[43m(\u001b[49m\u001b[43mframe\u001b[49m\u001b[43m,\u001b[49m\u001b[43m \u001b[49m\u001b[43m(\u001b[49m\u001b[43mframe_width\u001b[49m\u001b[43m \u001b[49m\u001b[38;5;241;43m/\u001b[39;49m\u001b[38;5;241;43m/\u001b[39;49m\u001b[43m \u001b[49m\u001b[38;5;241;43m2\u001b[39;49m\u001b[43m,\u001b[49m\u001b[43m \u001b[49m\u001b[43mframe_height\u001b[49m\u001b[43m \u001b[49m\u001b[38;5;241;43m/\u001b[39;49m\u001b[38;5;241;43m/\u001b[39;49m\u001b[43m \u001b[49m\u001b[38;5;241;43m2\u001b[39;49m\u001b[43m)\u001b[49m\u001b[43m)\u001b[49m\n\u001b[0;32m     35\u001b[0m     \u001b[38;5;28;01mif\u001b[39;00m \u001b[38;5;129;01mnot\u001b[39;00m ret:\n\u001b[0;32m     36\u001b[0m         \u001b[38;5;28mprint\u001b[39m(\u001b[38;5;124m'\u001b[39m\u001b[38;5;124mSomething went wrong\u001b[39m\u001b[38;5;124m'\u001b[39m)\n",
      "\u001b[1;31merror\u001b[0m: OpenCV(4.8.0) D:\\a\\opencv-python\\opencv-python\\opencv\\modules\\imgproc\\src\\resize.cpp:4062: error: (-215:Assertion failed) !ssize.empty() in function 'cv::resize'\n"
     ]
    }
   ],
   "source": [
    "# Get the video file and read it\n",
    "video = cv2.VideoCapture(\"race.mp4\")\n",
    "ret, frame = video.read()\n",
    "\n",
    "frame_height, frame_width = frame.shape[:2]\n",
    "# Resize the video for a more convenient view\n",
    "frame = cv2.resize(frame, (frame_width // 2, frame_height // 2))\n",
    "# Initialize video writer to save the results\n",
    "output = cv2.VideoWriter(f'{tracker_type}.avi',\n",
    "                         cv2.VideoWriter_fourcc(*'XVID'), 60.0,\n",
    "                         (frame_width // 2, frame_height // 2), True)\n",
    "\n",
    "if not ret:\n",
    "    print('Cannot read the video')\n",
    "\n",
    "# Select the bounding boxes for two people in the first frame\n",
    "print(\"Select the first person's bounding box:\")\n",
    "bbox1 = cv2.selectROI(frame, False)\n",
    "print(\"Select the second person's bounding box:\")\n",
    "bbox2 = cv2.selectROI(frame, False)\n",
    "\n",
    "# Initialize two separate trackers for the two bounding boxes\n",
    "tracker1 = cv2.TrackerCSRT_create()\n",
    "tracker2 = cv2.TrackerCSRT_create()\n",
    "\n",
    "# Initialize the trackers with the selected bounding boxes\n",
    "tracker1.init(frame, bbox1)\n",
    "tracker2.init(frame, bbox2)\n",
    "\n",
    "# Start tracking\n",
    "while True:\n",
    "    ret, frame = video.read()\n",
    "    frame = cv2.resize(frame, (frame_width // 2, frame_height // 2))\n",
    "\n",
    "    if not ret:\n",
    "        print('Something went wrong')\n",
    "        break\n",
    "\n",
    "    timer = cv2.getTickCount()\n",
    "\n",
    "    # Update the tracked bounding boxes for both people\n",
    "    ret1, bbox1 = tracker1.update(frame)\n",
    "    ret2, bbox2 = tracker2.update(frame)\n",
    "\n",
    "    fps = cv2.getTickFrequency() / (cv2.getTickCount() - timer)\n",
    "\n",
    "    if ret1:\n",
    "        p1 = (int(bbox1[0]), int(bbox1[1]))\n",
    "        p2 = (int(bbox1[0] + bbox1[2]), int(bbox1[1] + bbox1[3]))\n",
    "        cv2.rectangle(frame, p1, p2, (255, 0, 0), 2, 1)\n",
    "\n",
    "    if ret2:\n",
    "        p1 = (int(bbox2[0]), int(bbox2[1]))\n",
    "        p2 = (int(bbox2[0] + bbox2[2]), int(bbox2[1] + bbox2[3]))\n",
    "        cv2.rectangle(frame, p1, p2, (0, 255, 0), 2, 1)\n",
    "\n",
    "    cv2.putText(frame, tracker_type + \" Tracker\", (100, 20),\n",
    "                cv2.FONT_HERSHEY_SIMPLEX, 0.75, (50, 170, 50), 2)\n",
    "    cv2.putText(frame, \"FPS : \" + str(int(fps)), (100, 50),\n",
    "                cv2.FONT_HERSHEY_SIMPLEX, 0.75, (50, 170, 50), 2)\n",
    "\n",
    "    cv2.imshow(\"Tracking\", frame)\n",
    "    output.write(frame)\n",
    "\n",
    "    k = cv2.waitKey(1) & 0xff\n",
    "    if k == 27:\n",
    "        break\n",
    "\n",
    "video.release()\n",
    "output.release()\n",
    "cv2.destroyAllWindows()\n"
   ]
  }
 ],
 "metadata": {
  "kernelspec": {
   "display_name": "Python 3 (ipykernel)",
   "language": "python",
   "name": "python3"
  },
  "language_info": {
   "codemirror_mode": {
    "name": "ipython",
    "version": 3
   },
   "file_extension": ".py",
   "mimetype": "text/x-python",
   "name": "python",
   "nbconvert_exporter": "python",
   "pygments_lexer": "ipython3",
   "version": "3.9.12"
  }
 },
 "nbformat": 4,
 "nbformat_minor": 5
}
