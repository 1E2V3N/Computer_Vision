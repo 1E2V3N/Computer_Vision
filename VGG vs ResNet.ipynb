{
 "cells": [
  {
   "cell_type": "code",
   "execution_count": 7,
   "id": "1c6107ed",
   "metadata": {},
   "outputs": [],
   "source": [
    "import numpy as np\n",
    "from sklearn.datasets import load_digits\n",
    "from sklearn.model_selection import train_test_split\n",
    "from tensorflow.keras.models import Sequential\n",
    "from tensorflow.keras.layers import Dense\n",
    "from sklearn.preprocessing import LabelEncoder, OneHotEncoder"
   ]
  },
  {
   "cell_type": "code",
   "execution_count": 8,
   "id": "2edd741f",
   "metadata": {},
   "outputs": [],
   "source": [
    "# Load the Digits dataset\n",
    "digits = load_digits()\n",
    "X, y = digits.data, digits.target"
   ]
  },
  {
   "cell_type": "code",
   "execution_count": 9,
   "id": "87b2a4af",
   "metadata": {},
   "outputs": [],
   "source": [
    "# One-hot encode the target labels\n",
    "label_encoder = LabelEncoder()\n",
    "integer_encoded = label_encoder.fit_transform(y)\n",
    "onehot_encoder = OneHotEncoder(sparse=False)\n",
    "y = onehot_encoder.fit_transform(integer_encoded.reshape(-1, 1))"
   ]
  },
  {
   "cell_type": "code",
   "execution_count": 10,
   "id": "c2ec03f0",
   "metadata": {},
   "outputs": [],
   "source": [
    "# Split the data into training and testing sets\n",
    "X_train, X_test, y_train, y_test = train_test_split(X, y, test_size=0.2, random_state=42)"
   ]
  },
  {
   "cell_type": "code",
   "execution_count": 11,
   "id": "fa001f13",
   "metadata": {},
   "outputs": [],
   "source": [
    "def evaluate_model(model):\n",
    "    model.compile(optimizer='adam', loss='categorical_crossentropy', metrics=['accuracy'])\n",
    "    history = model.fit(X_train, y_train, epochs=10, batch_size=8, validation_split=0.1, verbose=1)\n",
    "    _, test_accuracy = model.evaluate(X_test, y_test, verbose=0)\n",
    "    return history, test_accuracy"
   ]
  },
  {
   "cell_type": "code",
   "execution_count": 13,
   "id": "de3ee518",
   "metadata": {},
   "outputs": [
    {
     "name": "stdout",
     "output_type": "stream",
     "text": [
      "Epoch 1/10\n",
      "162/162 [==============================] - 2s 6ms/step - loss: 0.6566 - accuracy: 0.7951 - val_loss: 0.1693 - val_accuracy: 0.9444\n",
      "Epoch 2/10\n",
      "162/162 [==============================] - 0s 2ms/step - loss: 0.1322 - accuracy: 0.9551 - val_loss: 0.1485 - val_accuracy: 0.9514\n",
      "Epoch 3/10\n",
      "162/162 [==============================] - 0s 2ms/step - loss: 0.0546 - accuracy: 0.9814 - val_loss: 0.2158 - val_accuracy: 0.9375\n",
      "Epoch 4/10\n",
      "162/162 [==============================] - 0s 2ms/step - loss: 0.0525 - accuracy: 0.9799 - val_loss: 0.1072 - val_accuracy: 0.9792\n",
      "Epoch 5/10\n",
      "162/162 [==============================] - 0s 2ms/step - loss: 0.0311 - accuracy: 0.9915 - val_loss: 0.1007 - val_accuracy: 0.9792\n",
      "Epoch 6/10\n",
      "162/162 [==============================] - 0s 2ms/step - loss: 0.0743 - accuracy: 0.9768 - val_loss: 0.1032 - val_accuracy: 0.9653\n",
      "Epoch 7/10\n",
      "162/162 [==============================] - 0s 2ms/step - loss: 0.0320 - accuracy: 0.9915 - val_loss: 0.1667 - val_accuracy: 0.9653\n",
      "Epoch 8/10\n",
      "162/162 [==============================] - 0s 2ms/step - loss: 0.0345 - accuracy: 0.9923 - val_loss: 0.2148 - val_accuracy: 0.9306\n",
      "Epoch 9/10\n",
      "162/162 [==============================] - 0s 1ms/step - loss: 0.0637 - accuracy: 0.9807 - val_loss: 0.0281 - val_accuracy: 0.9931\n",
      "Epoch 10/10\n",
      "162/162 [==============================] - 0s 2ms/step - loss: 0.0076 - accuracy: 0.9969 - val_loss: 0.0315 - val_accuracy: 0.9792\n"
     ]
    }
   ],
   "source": [
    "# Apply VGG-like model\n",
    "vgg_model = Sequential()\n",
    "vgg_model.add(Dense(64, input_shape=(64,), activation='relu'))\n",
    "vgg_model.add(Dense(256, activation='relu'))\n",
    "vgg_model.add(Dense(128, activation='relu'))\n",
    "vgg_model.add(Dense(10, activation='softmax'))\n",
    "\n",
    "vgg_history, vgg_test_accuracy = evaluate_model(vgg_model)"
   ]
  },
  {
   "cell_type": "code",
   "execution_count": 14,
   "id": "c6e2220b",
   "metadata": {},
   "outputs": [
    {
     "name": "stdout",
     "output_type": "stream",
     "text": [
      "Epoch 1/10\n",
      "162/162 [==============================] - 1s 3ms/step - loss: 0.8835 - accuracy: 0.7579 - val_loss: 0.3526 - val_accuracy: 0.8819\n",
      "Epoch 2/10\n",
      "162/162 [==============================] - 0s 2ms/step - loss: 0.1754 - accuracy: 0.9451 - val_loss: 0.1713 - val_accuracy: 0.9444\n",
      "Epoch 3/10\n",
      "162/162 [==============================] - 0s 2ms/step - loss: 0.1183 - accuracy: 0.9675 - val_loss: 0.1736 - val_accuracy: 0.9444\n",
      "Epoch 4/10\n",
      "162/162 [==============================] - 0s 2ms/step - loss: 0.0699 - accuracy: 0.9783 - val_loss: 0.0988 - val_accuracy: 0.9722\n",
      "Epoch 5/10\n",
      "162/162 [==============================] - 0s 2ms/step - loss: 0.0430 - accuracy: 0.9845 - val_loss: 0.1466 - val_accuracy: 0.9306\n",
      "Epoch 6/10\n",
      "162/162 [==============================] - 0s 2ms/step - loss: 0.0350 - accuracy: 0.9907 - val_loss: 0.1010 - val_accuracy: 0.9861\n",
      "Epoch 7/10\n",
      "162/162 [==============================] - 0s 2ms/step - loss: 0.0157 - accuracy: 0.9961 - val_loss: 0.1351 - val_accuracy: 0.9653\n",
      "Epoch 8/10\n",
      "162/162 [==============================] - 0s 1ms/step - loss: 0.0128 - accuracy: 0.9961 - val_loss: 0.0676 - val_accuracy: 0.9861\n",
      "Epoch 9/10\n",
      "162/162 [==============================] - 0s 2ms/step - loss: 0.0086 - accuracy: 0.9977 - val_loss: 0.0617 - val_accuracy: 0.9931\n",
      "Epoch 10/10\n",
      "162/162 [==============================] - 0s 2ms/step - loss: 0.0012 - accuracy: 1.0000 - val_loss: 0.0587 - val_accuracy: 0.9931\n"
     ]
    }
   ],
   "source": [
    "# Apply ResNet-like model\n",
    "resnet_model = Sequential()\n",
    "resnet_model.add(Dense(64, input_shape=(64,), activation='relu'))\n",
    "resnet_model.add(Dense(256, activation='relu'))\n",
    "resnet_model.add(Dense(128, activation='relu'))\n",
    "resnet_model.add(Dense(10, activation='softmax'))\n",
    "\n",
    "resnet_history, resnet_test_accuracy = evaluate_model(resnet_model)"
   ]
  },
  {
   "cell_type": "code",
   "execution_count": 15,
   "id": "61f9cffe",
   "metadata": {},
   "outputs": [
    {
     "name": "stdout",
     "output_type": "stream",
     "text": [
      "VGG-like Test Accuracy: 0.9777777791023254\n",
      "ResNet-like Test Accuracy: 0.9833333492279053\n"
     ]
    }
   ],
   "source": [
    "print(\"VGG-like Test Accuracy:\", vgg_test_accuracy)\n",
    "print(\"ResNet-like Test Accuracy:\", resnet_test_accuracy)"
   ]
  }
 ],
 "metadata": {
  "kernelspec": {
   "display_name": "Python 3 (ipykernel)",
   "language": "python",
   "name": "python3"
  },
  "language_info": {
   "codemirror_mode": {
    "name": "ipython",
    "version": 3
   },
   "file_extension": ".py",
   "mimetype": "text/x-python",
   "name": "python",
   "nbconvert_exporter": "python",
   "pygments_lexer": "ipython3",
   "version": "3.9.12"
  }
 },
 "nbformat": 4,
 "nbformat_minor": 5
}
