{
 "cells": [
  {
   "cell_type": "code",
   "execution_count": null,
   "id": "17f03852",
   "metadata": {},
   "outputs": [],
   "source": []
  },
  {
   "cell_type": "markdown",
   "id": "b08ba403",
   "metadata": {},
   "source": [
    "#RGB \n",
    "https://www.google.com/search?q=rgb+color+picker&rlz=1C1ONGR_enIN1050IN1050&oq=rbg+&gs_lcrp=EgZjaHJvbWUqDwgDEAAYChiDARixAxiABDIGCAAQRRg5MgwIARAAGAoYsQMYgAQyDAgCEAAYChixAxiABDIPCAMQABgKGIMBGLEDGIAEMgwIBBAAGAoYsQMYgAQyDwgFEAAYChiDARixAxiABDIMCAYQABgKGLEDGIAEMgwIBxAAGAoYsQMYgAQyDwgIEC4YChivARjHARiABDIHCAkQABiABNIBCDQzMjJqMGo3qAIAsAIA&sourceid=chrome&ie=UTF-8"
   ]
  },
  {
   "cell_type": "code",
   "execution_count": 2,
   "id": "d3c74a0f",
   "metadata": {},
   "outputs": [],
   "source": [
    "#IMPORT OPEN CV\n",
    "import cv2"
   ]
  },
  {
   "cell_type": "markdown",
   "id": "20469feb",
   "metadata": {},
   "source": [
    "# READ\n"
   ]
  },
  {
   "cell_type": "code",
   "execution_count": 3,
   "id": "0d3cfd91",
   "metadata": {},
   "outputs": [],
   "source": [
    "# Python code to read image\n",
    "\n",
    "\n",
    "\n",
    "# To read image from disk, we use\n",
    "# cv2.imread function, in below method,\n",
    "img = cv2.imread(\"quang-nguyen.jpg\")\n",
    "\n",
    "# Creating GUI window to display an image on screen\n",
    "# first Parameter is windows title (should be in string format)\n",
    "# Second Parameter is image array\n",
    "cv2.imshow(\"image\", img)\n",
    "\n",
    "# To hold the window on screen, we use cv2.waitKey method\n",
    "# Once it detected the close input, it will release the control\n",
    "# To the next line\n",
    "# First Parameter is for holding screen for specified milliseconds\n",
    "# It should be positive integer. If 0 pass an parameter, then it will\n",
    "# hold the screen until user close it.\n",
    "cv2.waitKey(0)\n",
    "\n",
    "# It is for removing/deleting created GUI window from screen\n",
    "# and memory\n",
    "cv2.destroyAllWindows()\n"
   ]
  },
  {
   "cell_type": "markdown",
   "id": "ea859134",
   "metadata": {},
   "source": [
    "cv2.IMREAD_COLOR: It specifies to load a color image. Any transparency of image will be neglected. It is the default flag. Alternatively, we can pass integer value 1 for this flag.\n",
    "cv2.IMREAD_GRAYSCALE: It specifies to load an image in grayscale mode. Alternatively, we can pass integer value 0 for this flag.\n",
    "cv2.IMREAD_UNCHANGED: It specifies to load an image as such including alpha channel. Alternatively, we can pass integer value -1 for this flag."
   ]
  },
  {
   "cell_type": "code",
   "execution_count": 3,
   "id": "cd08a97f",
   "metadata": {},
   "outputs": [],
   "source": [
    "# Python code to read image\n",
    "\n",
    "\n",
    "\n",
    "# To read image from disk, we use\n",
    "# cv2.imread function, in below method,\n",
    "img = cv2.imread(\"quang-nguyen.jpg\",cv2.IMREAD_GRAYSCALE)\n",
    "\n",
    "# Creating GUI window to display an image on screen\n",
    "# first Parameter is windows title (should be in string format)\n",
    "# Second Parameter is image array\n",
    "cv2.imshow(\"image\", img)\n",
    "\n",
    "# To hold the window on screen, we use cv2.waitKey method\n",
    "# Once it detected the close input, it will release the control\n",
    "# To the next line\n",
    "# First Parameter is for holding screen for specified milliseconds\n",
    "# It should be positive integer. If 0 pass an parameter, then it will\n",
    "# hold the screen until user close it.\n",
    "#we have specified the parameter ‘0’ in the “waitKey” to keep the window open until we close it\n",
    "cv2.waitKey(0)\n",
    "\n",
    "# It is for removing/deleting created GUI window from screen\n",
    "# and memory\n",
    "cv2.destroyAllWindows()\n",
    "\n"
   ]
  },
  {
   "cell_type": "markdown",
   "id": "a5b55a2c",
   "metadata": {},
   "source": [
    "# READ IMAGE FROM URL"
   ]
  },
  {
   "cell_type": "code",
   "execution_count": 1,
   "id": "f71eed14",
   "metadata": {},
   "outputs": [],
   "source": [
    "#reading image from url\n",
    "import urllib\n",
    "import cv2\n",
    "import numpy as np\n",
    "# We need the urllib package to process a URL. Let’s consider a random URL pointing to an image:\n",
    "\n",
    "url = \"http://s0.geograph.org.uk/photos/40/57/405725_b17937da.jpg\"\n",
    "# The next step is to extract the contents of the URL:\n",
    "\n",
    "url_response = urllib.request.urlopen(url)\n",
    "# Once we have the response, we need to convert it into a numpy array:\n",
    "\n",
    "img_array = np.array(bytearray(url_response.read()), dtype=np.uint8)\n",
    "# We are now ready to decode the image:\n",
    "\n",
    "img = cv2.imdecode(img_array, -1)\n",
    "# Let’s see what img looks like. Add the following lines to the same python file:\n",
    "\n",
    "cv2.imshow('URL Image', img)\n",
    "cv2.waitKey(0)\n",
    "cv2.destroyAllWindows()\n",
    "# Let’s run the code:"
   ]
  },
  {
   "cell_type": "markdown",
   "id": "5a322018",
   "metadata": {},
   "source": [
    "# SHAPE OF IMAGE"
   ]
  },
  {
   "cell_type": "code",
   "execution_count": 5,
   "id": "0c105aa5",
   "metadata": {},
   "outputs": [
    {
     "data": {
      "text/plain": [
       "(480, 640, 3)"
      ]
     },
     "execution_count": 5,
     "metadata": {},
     "output_type": "execute_result"
    }
   ],
   "source": [
    "#SHAPE OF IMAGE\n",
    "img.shape"
   ]
  },
  {
   "cell_type": "markdown",
   "id": "3efdec59",
   "metadata": {},
   "source": [
    "# DTYPE OF IMAGE"
   ]
  },
  {
   "cell_type": "code",
   "execution_count": 2,
   "id": "958fe38d",
   "metadata": {},
   "outputs": [
    {
     "name": "stdout",
     "output_type": "stream",
     "text": [
      "uint8\n"
     ]
    }
   ],
   "source": [
    "#dtype\n",
    "print(img.dtype)"
   ]
  },
  {
   "cell_type": "markdown",
   "id": "f060cc1c",
   "metadata": {},
   "source": [
    "# histogram OF IMAGE"
   ]
  },
  {
   "cell_type": "code",
   "execution_count": 4,
   "id": "714b7a06",
   "metadata": {},
   "outputs": [
    {
     "data": {
      "image/png": "[encoded data removed]",
      "text/plain": [
       "<Figure size 432x288 with 1 Axes>"
      ]
     },
     "metadata": {
      "needs_background": "light"
     },
     "output_type": "display_data"
    }
   ],
   "source": [
    "# importing required libraries of opencv\n",
    "import cv2\n",
    "  \n",
    "# importing library for plotting\n",
    "from matplotlib import pyplot as plt\n",
    "  \n",
    "# reads an input image\n",
    "img = cv2.imread('quang-nguyen.jpg',cv2.IMREAD_GRAYSCALE)\n",
    "  \n",
    "# find frequency of pixels in range 0-255\n",
    "histr = cv2.calcHist([img],[0],None,[256],[0,256])\n",
    "  \n",
    "# show the plotting graph of an image\n",
    "plt.plot(histr)\n",
    "plt.show()"
   ]
  },
  {
   "cell_type": "code",
   "execution_count": 5,
   "id": "a7474ad2",
   "metadata": {},
   "outputs": [
    {
     "data": {
      "image/png": "[encoded data removed]",
      "text/plain": [
       "<Figure size 432x288 with 1 Axes>"
      ]
     },
     "metadata": {
      "needs_background": "light"
     },
     "output_type": "display_data"
    }
   ],
   "source": [
    "# Python program to compute and visualize the\n",
    "# histogram of Red channel of image\n",
    "%matplotlib inline\n",
    "  \n",
    "# importing libraries\n",
    "import cv2\n",
    "import numpy as np\n",
    "from matplotlib import pyplot as plt\n",
    "  \n",
    "# reading the input image\n",
    "img = cv2.imread('quang-nguyen.jpg')\n",
    "  \n",
    "# computing the histogram of the Red channel of the image\n",
    "hist = cv2.calcHist([img],[2],None,[256],[0,256])\n",
    "  \n",
    "# plot the above computed histogram\n",
    "plt.plot(hist, color='r')\n",
    "plt.title('Image Histogram For Red Channel GFG')\n",
    "plt.show()"
   ]
  },
  {
   "cell_type": "code",
   "execution_count": 6,
   "id": "a4f14bca",
   "metadata": {},
   "outputs": [
    {
     "data": {
      "image/png": "[encoded data removed]",
      "text/plain": [
       "<Figure size 432x288 with 1 Axes>"
      ]
     },
     "metadata": {
      "needs_background": "light"
     },
     "output_type": "display_data"
    }
   ],
   "source": [
    "# Python program to compute and visualize the\n",
    "# histogram of Green channel of image\n",
    "%matplotlib inline\n",
    "  \n",
    "# importing libraries\n",
    "import cv2\n",
    "import numpy as np\n",
    "from matplotlib import pyplot as plt\n",
    "  \n",
    "# reading the input image\n",
    "img = cv2.imread('quang-nguyen.jpg')\n",
    "  \n",
    "# computing the histogram of the green channel of the image\n",
    "hist = cv2.calcHist([img],[1],None,[256],[0,256])\n",
    "  \n",
    "# plot the above computed histogram\n",
    "plt.plot(hist, color='g')\n",
    "plt.title('Image Histogram For Green Channel GFG')\n",
    "plt.show()"
   ]
  },
  {
   "cell_type": "code",
   "execution_count": 7,
   "id": "d578c045",
   "metadata": {},
   "outputs": [
    {
     "data": {
      "image/png": "[encoded data removed]",
      "text/plain": [
       "<Figure size 432x288 with 1 Axes>"
      ]
     },
     "metadata": {
      "needs_background": "light"
     },
     "output_type": "display_data"
    }
   ],
   "source": [
    "# Python program to compute and visualize the\n",
    "# histogram of Blue channel of image\n",
    "%matplotlib inline\n",
    "\n",
    "# importing libraries\n",
    "import cv2\n",
    "import numpy as np\n",
    "from matplotlib import pyplot as plt\n",
    "\n",
    "# reading the input image\n",
    "img = cv2.imread('quang-nguyen.jpg')\n",
    "\n",
    "# computing the histogram of the blue channel of the image\n",
    "hist = cv2.calcHist([img],[0],None,[256],[0,256])\n",
    "\n",
    "# plot the above computed histogram\n",
    "plt.plot(hist, color='b')\n",
    "plt.title('Image Histogram For Blue Channel GFG')\n",
    "plt.show()\n"
   ]
  },
  {
   "cell_type": "code",
   "execution_count": 8,
   "id": "7bd5ec6f",
   "metadata": {},
   "outputs": [
    {
     "data": {
      "image/png": "[encoded data removed]",
      "text/plain": [
       "<Figure size 432x288 with 1 Axes>"
      ]
     },
     "metadata": {
      "needs_background": "light"
     },
     "output_type": "display_data"
    }
   ],
   "source": [
    "# Python program to compute and visualize the\n",
    "# histogram of image for all three channels\n",
    "%matplotlib inline\n",
    "  \n",
    "# importing libraries\n",
    "import cv2\n",
    "import numpy as np\n",
    "from matplotlib import pyplot as plt\n",
    "  \n",
    "# reading the input image\n",
    "img = cv2.imread('quang-nguyen.jpg')\n",
    "  \n",
    "# define colors to plot the histograms\n",
    "colors = ('b','g','r')\n",
    "  \n",
    "# compute and plot the image histograms\n",
    "for i,color in enumerate(colors):\n",
    "    hist = cv2.calcHist([img],[i],None,[256],[0,256])\n",
    "    plt.plot(hist,color = color)\n",
    "plt.title('Image Histogram GFG')\n",
    "plt.show()"
   ]
  },
  {
   "cell_type": "markdown",
   "id": "c8ca26d4",
   "metadata": {},
   "source": [
    "# CONVERT IMAGE TO GREY SCALE"
   ]
  },
  {
   "cell_type": "code",
   "execution_count": 9,
   "id": "62da5ab0",
   "metadata": {},
   "outputs": [],
   "source": [
    "#converting to grey scale\n",
    "# importing cv2\n",
    "# Python program to explain cv2.imread() method\n",
    "\n",
    "import cv2\n",
    " \n",
    "# path\n",
    "path = 'quang-nguyen.jpg'\n",
    " \n",
    "# Using cv2.imread() method\n",
    "# Using 0 to read image in grayscale mode\n",
    "img = cv2.imread(path, cv2.IMREAD_GRAYSCALE)\n",
    " \n",
    "# Displaying the image\n",
    "cv2.imshow('image', img)\n",
    "cv2.waitKey(0)\n",
    "cv2.destroyAllWindows()"
   ]
  },
  {
   "cell_type": "markdown",
   "id": "2c25fef7",
   "metadata": {},
   "source": [
    "# RESIZE OF IMAGE"
   ]
  },
  {
   "cell_type": "code",
   "execution_count": 10,
   "id": "f2b2e503",
   "metadata": {},
   "outputs": [
    {
     "data": {
      "text/plain": [
       "True"
      ]
     },
     "execution_count": 10,
     "metadata": {},
     "output_type": "execute_result"
    }
   ],
   "source": [
    "#resize\n",
    "\n",
    "# path\n",
    "path = 'quang-nguyen.jpg'\n",
    " \n",
    "# Using cv2.imread() method\n",
    "# Using 0 to read image in grayscale mode\n",
    "image = cv2.imread(path)\n",
    "# Define the desired dimensions for the new image (width, height).\n",
    "new_width = 500\n",
    "new_height = 300\n",
    "\n",
    "# Resize the image using the cv2.resize() function.\n",
    "resized_image = cv2.resize(image, (new_width, new_height))\n",
    "\n",
    "# Display the resized image using OpenCV.\n",
    "cv2.imshow('Resized Image', resized_image)\n",
    "cv2.waitKey(0)\n",
    "cv2.destroyAllWindows()\n",
    "\n",
    "# If you want to save the resized image to a file:\n",
    "cv2.imwrite('resized_image.jpg', resized_image)\n"
   ]
  },
  {
   "cell_type": "markdown",
   "id": "391136cd",
   "metadata": {},
   "source": [
    "# WRITE IMAGE TO LOCAL SYSTEM"
   ]
  },
  {
   "cell_type": "code",
   "execution_count": 11,
   "id": "cce0b6ea",
   "metadata": {},
   "outputs": [],
   "source": [
    "import numpy as np\n",
    "import cv2\n",
    "# Load an color image in grayscale\n",
    "img = cv2.imread('quang-nguyen.jpg')\n",
    "cv2.imshow('image',img)\n",
    "key=cv2.waitKey(0)\n",
    "if key==ord('s'):\n",
    "   cv2.imwrite(\"opencv_logo_GS.png\", img)\n",
    "cv2.destroyAllWindows()"
   ]
  },
  {
   "cell_type": "markdown",
   "id": "de7c0c96",
   "metadata": {},
   "source": [
    "# transalation"
   ]
  },
  {
   "cell_type": "markdown",
   "id": "a61cf29e",
   "metadata": {},
   "source": [
    "Translation refers to the rectilinear shift of an object i.e. an image from one location to another. If we know the amount of shift in horizontal and the vertical direction, say (tx, ty) then we can make a transformation matrix e.g.   \\begin{bmatrix}  1 & 0 & tx \\\\ 0 & 1 & ty \\end{bmatrix}  \n",
    "where tx denotes the shift along the x-axis and ty denotes shift along the y-axis i.e. the number of pixels by which we need to shift about in that direction."
   ]
  },
  {
   "cell_type": "code",
   "execution_count": 12,
   "id": "bf32b680",
   "metadata": {},
   "outputs": [],
   "source": [
    "import cv2\n",
    "import numpy as np\n",
    "\n",
    "image = cv2.imread('quang-nguyen.jpg')\n",
    "\n",
    "# Store height and width of the image\n",
    "height, width = image.shape[:2]\n",
    "\n",
    "quarter_height, quarter_width = height / 4, width / 4\n",
    "\n",
    "T = np.float32([[1, 0, quarter_width], [0, 1, quarter_height]])\n",
    "\n",
    "# We use warpAffine to transform\n",
    "# the image using the matrix, T\n",
    "img_translation = cv2.warpAffine(image, T, (width, height))\n",
    "\n",
    "cv2.imshow(\"Originalimage\", image)\n",
    "cv2.imshow('Translation', img_translation)\n",
    "cv2.waitKey()\n",
    "\n",
    "cv2.destroyAllWindows()\n"
   ]
  },
  {
   "cell_type": "markdown",
   "id": "35a9300a",
   "metadata": {},
   "source": [
    "# rotate"
   ]
  },
  {
   "cell_type": "code",
   "execution_count": 13,
   "id": "91a5b4de",
   "metadata": {},
   "outputs": [
    {
     "data": {
      "text/plain": [
       "-1"
      ]
     },
     "execution_count": 13,
     "metadata": {},
     "output_type": "execute_result"
    }
   ],
   "source": [
    "# Python program to explain cv2.rotate() method\n",
    "\n",
    "# importing cv2\n",
    "import cv2\n",
    "\n",
    "# path\n",
    "path ='quang-nguyen.jpg'\n",
    "\n",
    "# Reading an image in default mode\n",
    "src = cv2.imread(path)\n",
    "\n",
    "# Window name in which image is displayed\n",
    "window_name = 'Image'\n",
    "\n",
    "# Using cv2.rotate() method\n",
    "# Using cv2.ROTATE_90_CLOCKWISE rotate\n",
    "# by 90 degrees clockwise\n",
    "image = cv2.rotate(src, cv2.ROTATE_90_CLOCKWISE)\n",
    "\n",
    "# Displaying the image\n",
    "cv2.imshow(window_name, image)\n",
    "cv2.waitKey(0)\n"
   ]
  },
  {
   "cell_type": "markdown",
   "id": "4120a7fd",
   "metadata": {},
   "source": [
    "# bitwise OPERATION"
   ]
  },
  {
   "cell_type": "code",
   "execution_count": 13,
   "id": "0a52030b",
   "metadata": {},
   "outputs": [],
   "source": [
    "#AND\n",
    "\n",
    "# Python program to illustrate \n",
    "# arithmetic operation of\n",
    "# bitwise AND of two images\n",
    "     \n",
    "# organizing imports \n",
    "import cv2 \n",
    "import numpy as np \n",
    "     \n",
    "# path to input images are specified and   \n",
    "# images are loaded with imread command  \n",
    "img1 = cv2.imread('image1.png')  \n",
    "img2 = cv2.imread('image2.png') \n",
    "  \n",
    "# cv2.bitwise_and is applied over the\n",
    "# image inputs with applied parameters \n",
    "dest_and = cv2.bitwise_and(img2, img1, mask = None)\n",
    "  \n",
    "# the window showing output image\n",
    "# with the Bitwise AND operation\n",
    "# on the input images\n",
    "cv2.imshow('Bitwise And', dest_and)\n",
    "   \n",
    "# De-allocate any associated memory usage  \n",
    "if cv2.waitKey(0) & 0xff == 27: \n",
    "    cv2.destroyAllWindows() "
   ]
  },
  {
   "cell_type": "code",
   "execution_count": 14,
   "id": "6534e2cf",
   "metadata": {},
   "outputs": [],
   "source": [
    "#OR\n",
    "\n",
    "# Python program to illustrate \n",
    "# arithmetic operation of\n",
    "# bitwise or of two images\n",
    "     \n",
    "# organizing imports \n",
    "import cv2 \n",
    "import numpy as np \n",
    "     \n",
    "# path to input images are specified and   \n",
    "# images are loaded with imread command  \n",
    "img1 = cv2.imread('image1.png')  \n",
    "img2 = cv2.imread('image2.png') \n",
    "  \n",
    "# cv2.bitwise_and is applied over the\n",
    "# image inputs with applied parameters \n",
    "dest_and = cv2.bitwise_or(img2, img1, mask = None)\n",
    "  \n",
    "# the window showing output image\n",
    "# with the Bitwise AND operation\n",
    "# on the input images\n",
    "cv2.imshow('Bitwise And', dest_and)\n",
    "   \n",
    "# De-allocate any associated memory usage  \n",
    "if cv2.waitKey(0) & 0xff == 27: \n",
    "    cv2.destroyAllWindows() "
   ]
  },
  {
   "cell_type": "code",
   "execution_count": 15,
   "id": "576a0b15",
   "metadata": {},
   "outputs": [],
   "source": [
    "#XOR\n",
    "\n",
    "# Python program to illustrate \n",
    "# arithmetic operation of\n",
    "# bitwise xor of two images\n",
    "     \n",
    "# organizing imports \n",
    "import cv2 \n",
    "import numpy as np \n",
    "     \n",
    "# path to input images are specified and   \n",
    "# images are loaded with imread command  \n",
    "img1 = cv2.imread('image1.png')  \n",
    "img2 = cv2.imread('image2.png') \n",
    "  \n",
    "# cv2.bitwise_and is applied over the\n",
    "# image inputs with applied parameters \n",
    "dest_and = cv2.bitwise_xor(img2, img1, mask = None)\n",
    "  \n",
    "# the window showing output image\n",
    "# with the Bitwise AND operation\n",
    "# on the input images\n",
    "cv2.imshow('Bitwise And', dest_and)\n",
    "   \n",
    "# De-allocate any associated memory usage  \n",
    "if cv2.waitKey(0) & 0xff == 27: \n",
    "    cv2.destroyAllWindows() "
   ]
  },
  {
   "cell_type": "code",
   "execution_count": 16,
   "id": "de7c72d1",
   "metadata": {},
   "outputs": [],
   "source": [
    "#NOT\n",
    "\n",
    "# Python program to illustrate \n",
    "# arithmetic operation of\n",
    "# bitwise NOT on input image\n",
    "     \n",
    "# organizing imports \n",
    "import cv2 \n",
    "import numpy as np \n",
    "     \n",
    "# path to input images are specified and   \n",
    "# images are loaded with imread command  \n",
    "img1 = cv2.imread('image1.png')  \n",
    "img2 = cv2.imread('image2.png') \n",
    "  \n",
    "# cv2.bitwise_not is applied over the\n",
    "# image input with applied parameters \n",
    "dest_not1 = cv2.bitwise_not(img1, mask = None)\n",
    "dest_not2 = cv2.bitwise_not(img2, mask = None)\n",
    "  \n",
    "# the windows showing output image\n",
    "# with the Bitwise NOT operation\n",
    "# on the 1st and 2nd input image\n",
    "cv2.imshow('Bitwise NOT on image 1', dest_not1)\n",
    "cv2.imshow('Bitwise NOT on image 2', dest_not2)\n",
    "   \n",
    "# De-allocate any associated memory usage  \n",
    "if cv2.waitKey(0) & 0xff == 27: \n",
    "    cv2.destroyAllWindows()"
   ]
  },
  {
   "cell_type": "markdown",
   "id": "7dce79dc",
   "metadata": {},
   "source": [
    "# HSV"
   ]
  },
  {
   "cell_type": "markdown",
   "id": "d065407a",
   "metadata": {},
   "source": [
    "#Color Space Conversion\n",
    "Convert an image from one color space to another (e.g., RGB to HSV) using "
   ]
  },
  {
   "cell_type": "markdown",
   "id": "3c2f7c29",
   "metadata": {},
   "source": [
    "HSV stands for Hue, Saturation, and Value, and it is a color model used in image processing and computer vision. Unlike the RGB (Red, Green, Blue) color model, which represents colors as combinations of three primary colors, HSV separates color information into three components that are more intuitive and easier to work with for certain tasks.\n",
    "\n",
    "Here's a brief explanation of each component in the HSV color model:\n",
    "\n",
    "Hue (H): The hue component represents the pure color information without any white or black added. It is typically represented as an angle on the color wheel, with values ranging from 0 to 360 degrees. Different hues correspond to different colors, such as red, orange, yellow, green, blue, etc. For example, red has a hue value of 0 degrees, green is around 120 degrees, and blue is around 240 degrees.\n",
    "\n",
    "Saturation (S): Saturation represents the intensity or purity of the color. A higher saturation value means a more vivid and saturated color, while a lower saturation value results in a more washed-out or pastel version of the color. Saturation is typically represented as a percentage, with 0% being completely unsaturated (grayscale) and 100% being fully saturated.\n",
    "\n",
    "Value (V) or Brightness: The value component determines the brightness of the color. A higher value means a brighter color, while a lower value results in a darker color. Like saturation, value is also typically represented as a percentage, with 0% being black and 100% being the fully bright color.\n",
    "\n",
    "The HSV color model is particularly useful in image processing tasks like color filtering, color segmentation, and object detection"
   ]
  },
  {
   "cell_type": "code",
   "execution_count": 17,
   "id": "cbbddd58",
   "metadata": {},
   "outputs": [],
   "source": [
    "import cv2\n",
    "\n",
    "# Read an image in RGB format\n",
    "image = cv2.imread('car.png')\n",
    "\n",
    "# Convert the image from RGB to HSV\n",
    "hsv_image = cv2.cvtColor(image, cv2.COLOR_BGR2HSV)\n",
    "cv2.imshow('hsv Image', hsv_image)\n",
    "cv2.waitKey(0)\n",
    "cv2.destroyAllWindows()"
   ]
  },
  {
   "cell_type": "markdown",
   "id": "0db04c1b",
   "metadata": {},
   "source": [
    "# INTERPOLATION"
   ]
  },
  {
   "cell_type": "code",
   "execution_count": 18,
   "id": "725aab1d",
   "metadata": {},
   "outputs": [
    {
     "data": {
      "text/plain": [
       "True"
      ]
     },
     "execution_count": 18,
     "metadata": {},
     "output_type": "execute_result"
    }
   ],
   "source": [
    "#interpolation INTER_LINEAR\n",
    "# path\n",
    "path = 'car.png'\n",
    " \n",
    "# Using cv2.imread() method\n",
    "# Using 0 to read image in grayscale mode\n",
    "image = cv2.imread(path, cv2.IMREAD_GRAYSCALE)\n",
    "# Define the desired dimensions for the new image (width, height).\n",
    "new_width = 500\n",
    "new_height = 300\n",
    "\n",
    "# Resize the image using the cv2.resize() function.\n",
    "resized_image = cv2.resize(image, (new_width, new_height),cv2.INTER_LINEAR )\n",
    "\n",
    "# Display the resized image using OpenCV.\n",
    "cv2.imshow('Resized Image', resized_image)\n",
    "cv2.waitKey(0)\n",
    "cv2.destroyAllWindows()\n",
    "\n",
    "# If you want to save the resized image to a file:\n",
    "cv2.imwrite('resized_image.jpg', resized_image)\n"
   ]
  },
  {
   "cell_type": "code",
   "execution_count": 19,
   "id": "273a956b",
   "metadata": {},
   "outputs": [
    {
     "data": {
      "text/plain": [
       "True"
      ]
     },
     "execution_count": 19,
     "metadata": {},
     "output_type": "execute_result"
    }
   ],
   "source": [
    "#interpolation INTER_CUBIC\n",
    "# path\n",
    "path = 'car.png'\n",
    " \n",
    "# Using cv2.imread() method\n",
    "# Using 0 to read image in grayscale mode\n",
    "image = cv2.imread(path, cv2.IMREAD_GRAYSCALE)\n",
    "# Define the desired dimensions for the new image (width, height).\n",
    "new_width = 500\n",
    "new_height = 300\n",
    "\n",
    "# Resize the image using the cv2.resize() function.\n",
    "resized_image = cv2.resize(image, (new_width, new_height),cv2.INTER_CUBIC  )\n",
    "\n",
    "# Display the resized image using OpenCV.\n",
    "cv2.imshow('Resized Image', resized_image)\n",
    "cv2.waitKey(0)\n",
    "cv2.destroyAllWindows()\n",
    "\n",
    "# If you want to save the resized image to a file:\n",
    "cv2.imwrite('resized_image.jpg', resized_image)\n"
   ]
  },
  {
   "cell_type": "code",
   "execution_count": 20,
   "id": "5120df49",
   "metadata": {},
   "outputs": [
    {
     "data": {
      "text/plain": [
       "True"
      ]
     },
     "execution_count": 20,
     "metadata": {},
     "output_type": "execute_result"
    }
   ],
   "source": [
    "\n",
    "#interpolation INTER_AREA\n",
    "# path\n",
    "path = 'car.png'\n",
    " \n",
    "# Using cv2.imread() method\n",
    "# Using 0 to read image in grayscale mode\n",
    "image = cv2.imread(path, cv2.IMREAD_GRAYSCALE)\n",
    "# Define the desired dimensions for the new image (width, height).\n",
    "new_width = 100\n",
    "new_height = 100\n",
    "\n",
    "# Resize the image using the cv2.resize() function.\n",
    "resized_image = cv2.resize(image, (new_width, new_height),cv2.INTER_AREA   )\n",
    "\n",
    "# Display the resized image using OpenCV.\n",
    "cv2.imshow('Resized Image', resized_image)\n",
    "cv2.waitKey(0)\n",
    "cv2.destroyAllWindows()\n",
    "\n",
    "# If you want to save the resized image to a file:\n",
    "cv2.imwrite('resized_image.jpg', resized_image)\n"
   ]
  },
  {
   "cell_type": "markdown",
   "id": "83a96782",
   "metadata": {},
   "source": [
    "# IMAGE FILTER"
   ]
  },
  {
   "cell_type": "code",
   "execution_count": 21,
   "id": "69dfa9fb",
   "metadata": {},
   "outputs": [],
   "source": [
    "#GaussianBlur\n",
    "import cv2\n",
    " \n",
    "# path\n",
    "path = 'car.png'\n",
    " \n",
    "# Using cv2.imread() method\n",
    "# Using 0 to read image in grayscale mode\n",
    "img = cv2.imread(path)\n",
    "blur = cv2.GaussianBlur(img,(5,5),0)\n",
    " \n",
    "# Displaying the image\n",
    "cv2.imshow('image', blur)\n",
    "cv2.waitKey(0)\n",
    "cv2.destroyAllWindows()"
   ]
  },
  {
   "cell_type": "code",
   "execution_count": 22,
   "id": "5df54313",
   "metadata": {},
   "outputs": [],
   "source": [
    "#GaussianBlur\n",
    "import cv2\n",
    " \n",
    "# path\n",
    "path = 'salt peper.png'\n",
    " \n",
    "# Using cv2.imread() method\n",
    "# Using 0 to read image in grayscale mode\n",
    "img = cv2.imread(path)\n",
    "blur = cv2.GaussianBlur(img,(5,5),10,10)\n",
    " \n",
    "# Displaying the image\n",
    "cv2.imshow('image', blur)\n",
    "cv2.waitKey(0)\n",
    "cv2.destroyAllWindows()"
   ]
  },
  {
   "cell_type": "code",
   "execution_count": 23,
   "id": "935fcefa",
   "metadata": {},
   "outputs": [],
   "source": [
    "#Median Blurring\n",
    "import cv2\n",
    " \n",
    "# path\n",
    "path = 'car.png'\n",
    " \n",
    "# Using cv2.imread() method\n",
    "# Using 0 to read image in grayscale mode\n",
    "img = cv2.imread(path)\n",
    "blur = median = cv2.medianBlur(img,5)\n",
    " \n",
    "# Displaying the image\n",
    "cv2.imshow('image', blur)\n",
    "cv2.waitKey(0)\n",
    "cv2.destroyAllWindows()\n"
   ]
  },
  {
   "cell_type": "markdown",
   "id": "f16e1a83",
   "metadata": {},
   "source": [
    "# thresholding type"
   ]
  },
  {
   "cell_type": "code",
   "execution_count": 24,
   "id": "a108139d",
   "metadata": {},
   "outputs": [],
   "source": [
    "# Python program to illustrate \n",
    "# simple thresholding type on an image\n",
    "      \n",
    "# organizing imports \n",
    "import cv2 \n",
    "import numpy as np \n",
    "  \n",
    "# path to input image is specified and  \n",
    "# image is loaded with imread command \n",
    "image1 = cv2.imread('car.png') \n",
    "  \n",
    "# cv2.cvtColor is applied over the\n",
    "# image input with applied parameters\n",
    "# to convert the image in grayscale \n",
    "img = cv2.cvtColor(image1, cv2.COLOR_BGR2GRAY)\n",
    "  \n",
    "# applying different thresholding \n",
    "# techniques on the input image\n",
    "# all pixels value above 120 will \n",
    "# be set to 255\n",
    "ret, thresh1 = cv2.threshold(img, 120, 255, cv2.THRESH_BINARY)\n",
    "ret, thresh2 = cv2.threshold(img, 120, 255, cv2.THRESH_BINARY_INV)\n",
    "ret, thresh3 = cv2.threshold(img, 120, 255, cv2.THRESH_TRUNC)\n",
    "ret, thresh4 = cv2.threshold(img, 120, 255, cv2.THRESH_TOZERO)\n",
    "ret, thresh5 = cv2.threshold(img, 120, 255, cv2.THRESH_TOZERO_INV)\n",
    "  \n",
    "# the window showing output images\n",
    "# with the corresponding thresholding \n",
    "# techniques applied to the input images\n",
    "cv2.imshow('Binary Threshold', thresh1)\n",
    "cv2.imshow('Binary Threshold Inverted', thresh2)\n",
    "cv2.imshow('Truncated Threshold', thresh3)\n",
    "cv2.imshow('Set to 0', thresh4)\n",
    "cv2.imshow('Set to 0 Inverted', thresh5)\n",
    "    \n",
    "# De-allocate any associated memory usage  \n",
    "if cv2.waitKey(0) & 0xff == 27: \n",
    "    cv2.destroyAllWindows() "
   ]
  },
  {
   "cell_type": "markdown",
   "id": "6f2ba1e6",
   "metadata": {},
   "source": [
    "# adaptiveThreshold"
   ]
  },
  {
   "cell_type": "markdown",
   "id": "cad9d49e",
   "metadata": {},
   "source": [
    "Syntax: cv2.adaptiveThreshold(source, maxVal, adaptiveMethod, thresholdType, blocksize, constant)\n",
    "\n",
    "Parameters:\n",
    "-> source: Input Image array(Single-channel, 8-bit or floating-point)\n",
    "-> maxVal: Maximum value that can be assigned to a pixel.\n",
    "-> adaptiveMethod: Adaptive method decides how threshold value is calculated.\n",
    "    \n",
    "v2.ADAPTIVE_THRESH_MEAN_C: Threshold Value = (Mean of the neighbourhood area values – constant value). In other words, it is the mean of the blockSize×blockSize neighborhood of a point minus constant.\n",
    "\n",
    "cv2.ADAPTIVE_THRESH_GAUSSIAN_C: Threshold Value = (Gaussian-weighted sum of the neighbourhood values – constant value). In other words, it is a weighted sum of the blockSize×blockSize neighborhood of a point minus constant.\n",
    "\n",
    "-> thresholdType: The type of thresholding to be applied.\n",
    "-> blockSize: Size of a pixel neighborhood that is used to calculate a threshold value.\n",
    "-> constant: A constant value that is subtracted from the mean or weighted sum of the neighbourhood pixels."
   ]
  },
  {
   "cell_type": "code",
   "execution_count": 25,
   "id": "8d473f35",
   "metadata": {},
   "outputs": [],
   "source": [
    "# Python program to illustrate\n",
    "# adaptive thresholding type on an image\n",
    "\t\n",
    "# organizing imports\n",
    "import cv2\n",
    "import numpy as np\n",
    "\n",
    "# path to input image is specified and\n",
    "# image is loaded with imread command\n",
    "image1 = cv2.imread('adaptive_image.jpg')\n",
    "\n",
    "# cv2.cvtColor is applied over the\n",
    "# image input with applied parameters\n",
    "# to convert the image in grayscale\n",
    "img = cv2.cvtColor(image1, cv2.COLOR_BGR2GRAY)\n",
    "\n",
    "# applying different thresholding\n",
    "# techniques on the input image\n",
    "thresh1 = cv2.adaptiveThreshold(img, 255, cv2.ADAPTIVE_THRESH_MEAN_C,\n",
    "\t\t\t\t\t\t\t\t\t\tcv2.THRESH_BINARY, 199, 5)\n",
    "\n",
    "thresh2 = cv2.adaptiveThreshold(img, 255, cv2.ADAPTIVE_THRESH_GAUSSIAN_C,\n",
    "\t\t\t\t\t\t\t\t\t\tcv2.THRESH_BINARY, 199, 5)\n",
    "\n",
    "# the window showing output images\n",
    "# with the corresponding thresholding\n",
    "# techniques applied to the input image\n",
    "cv2.imshow('Adaptive Mean', thresh1)\n",
    "cv2.imshow('Adaptive Gaussian', thresh2)\n",
    "\n",
    "\t\n",
    "# De-allocate any associated memory usage\n",
    "if cv2.waitKey(0) & 0xff == 27:\n",
    "\tcv2.destroyAllWindows()\n"
   ]
  },
  {
   "cell_type": "code",
   "execution_count": 26,
   "id": "9530e27d",
   "metadata": {},
   "outputs": [],
   "source": [
    "# Python program to illustrate\n",
    "# Otsu thresholding type on an image\n",
    "  \n",
    "# organizing imports\n",
    "import cv2         \n",
    "import numpy as np    \n",
    "  \n",
    "# path to input image is specified and\n",
    "# image is loaded with imread command\n",
    "image1 = cv2.imread('adaptive_image.jpg')\n",
    "  \n",
    "# cv2.cvtColor is applied over the\n",
    "# image input with applied parameters\n",
    "# to convert the image in grayscale\n",
    "img = cv2.cvtColor(image1, cv2.COLOR_BGR2GRAY)\n",
    "  \n",
    "# applying Otsu thresholding\n",
    "# as an extra flag in binary \n",
    "# thresholding     \n",
    "ret, thresh1 = cv2.threshold(img, 120, 255, cv2.THRESH_BINARY + \n",
    "                                            cv2.THRESH_OTSU)     \n",
    "  \n",
    "# the window showing output image         \n",
    "# with the corresponding thresholding         \n",
    "# techniques applied to the input image    \n",
    "cv2.imshow('Otsu Threshold', thresh1)         \n",
    "       \n",
    "# De-allocate any associated memory usage         \n",
    "if cv2.waitKey(0) & 0xff == 27:\n",
    "    cv2.destroyAllWindows()     "
   ]
  },
  {
   "cell_type": "code",
   "execution_count": null,
   "id": "66bf3279",
   "metadata": {},
   "outputs": [],
   "source": []
  }
 ],
 "metadata": {
  "kernelspec": {
   "display_name": "Python 3 (ipykernel)",
   "language": "python",
   "name": "python3"
  },
  "language_info": {
   "codemirror_mode": {
    "name": "ipython",
    "version": 3
   },
   "file_extension": ".py",
   "mimetype": "text/x-python",
   "name": "python",
   "nbconvert_exporter": "python",
   "pygments_lexer": "ipython3",
   "version": "3.9.12"
  }
 },
 "nbformat": 4,
 "nbformat_minor": 5
}
